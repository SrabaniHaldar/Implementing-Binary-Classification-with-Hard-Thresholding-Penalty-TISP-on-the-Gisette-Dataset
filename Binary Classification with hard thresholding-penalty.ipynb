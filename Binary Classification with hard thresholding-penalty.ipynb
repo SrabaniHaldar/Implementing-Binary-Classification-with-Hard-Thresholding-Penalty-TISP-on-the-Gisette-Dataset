{
 "cells": [
  {
   "cell_type": "code",
   "execution_count": 1,
   "id": "6b3fb1e6",
   "metadata": {},
   "outputs": [],
   "source": [
    "###Importing data and getting it ready###"
   ]
  },
  {
   "cell_type": "code",
   "execution_count": 2,
   "id": "7939410e",
   "metadata": {},
   "outputs": [],
   "source": [
    "import pandas as pd"
   ]
  },
  {
   "cell_type": "code",
   "execution_count": 3,
   "id": "88dde60a",
   "metadata": {},
   "outputs": [],
   "source": [
    "Gisette_train_X = pd.read_table(\"C:\\\\Users\\\\sraba\\\\OneDrive\\\\Documents\\\\ML_Barbu\\\\Datasets\\\\Gisette\\\\gisette_train.data\",\n",
    "                                names=list(range(1,5002)), sep=\" \")"
   ]
  },
  {
   "cell_type": "code",
   "execution_count": 4,
   "id": "f2ad26a7",
   "metadata": {},
   "outputs": [],
   "source": [
    "del Gisette_train_X[Gisette_train_X.columns[-1]]"
   ]
  },
  {
   "cell_type": "code",
   "execution_count": 5,
   "id": "ac45ed29",
   "metadata": {},
   "outputs": [],
   "source": [
    "Gisette_train_Y = pd.read_table(\"C:\\\\Users\\\\sraba\\\\OneDrive\\\\Documents\\\\ML_Barbu\\\\Datasets\\\\Gisette\\\\gisette_train.labels\",\n",
    "                                header=None, sep=\" \")"
   ]
  },
  {
   "cell_type": "code",
   "execution_count": 6,
   "id": "6f7b5846",
   "metadata": {},
   "outputs": [],
   "source": [
    "Gisette_test_X = pd.read_table(\"C:\\\\Users\\\\sraba\\\\OneDrive\\\\Documents\\\\ML_Barbu\\\\Datasets\\\\Gisette\\\\gisette_valid.data\",\n",
    "                                names=list(range(1,5002)), sep=\" \")"
   ]
  },
  {
   "cell_type": "code",
   "execution_count": 7,
   "id": "33b0a575",
   "metadata": {},
   "outputs": [],
   "source": [
    "del Gisette_test_X[Gisette_test_X.columns[-1]]"
   ]
  },
  {
   "cell_type": "code",
   "execution_count": 8,
   "id": "beb98c7b",
   "metadata": {},
   "outputs": [],
   "source": [
    "Gisette_test_Y = pd.read_table(\"C:\\\\Users\\\\sraba\\\\OneDrive\\\\Documents\\\\ML_Barbu\\\\Datasets\\\\Gisette\\\\gisette_valid.labels\",\n",
    "                                header=None, sep=\" \")"
   ]
  },
  {
   "cell_type": "code",
   "execution_count": 9,
   "id": "b989a12f",
   "metadata": {},
   "outputs": [],
   "source": [
    "###Pre-processing data###"
   ]
  },
  {
   "cell_type": "code",
   "execution_count": 10,
   "id": "01d69d4b",
   "metadata": {},
   "outputs": [],
   "source": [
    "from sklearn import preprocessing"
   ]
  },
  {
   "cell_type": "code",
   "execution_count": 11,
   "id": "46c241d0",
   "metadata": {},
   "outputs": [],
   "source": [
    "scaler = preprocessing.StandardScaler().fit(Gisette_train_X)"
   ]
  },
  {
   "cell_type": "code",
   "execution_count": 12,
   "id": "8f37feea",
   "metadata": {},
   "outputs": [],
   "source": [
    "Gisette_train_X = pd.DataFrame(scaler.transform(Gisette_train_X),columns=list(range(1,5001)))"
   ]
  },
  {
   "cell_type": "code",
   "execution_count": 13,
   "id": "8db85fa5",
   "metadata": {},
   "outputs": [],
   "source": [
    "Gisette_train_X.insert(loc=0,column=0,value=1)"
   ]
  },
  {
   "cell_type": "code",
   "execution_count": 14,
   "id": "2c602ac5",
   "metadata": {},
   "outputs": [],
   "source": [
    "Gisette_test_X = pd.DataFrame(scaler.transform(Gisette_test_X),columns=list(range(1,5001)))"
   ]
  },
  {
   "cell_type": "code",
   "execution_count": 15,
   "id": "a19f8bff",
   "metadata": {},
   "outputs": [],
   "source": [
    "Gisette_test_X.insert(loc=0,column=0,value=1)"
   ]
  },
  {
   "cell_type": "code",
   "execution_count": 16,
   "id": "37bdd435",
   "metadata": {},
   "outputs": [],
   "source": [
    "Gisette_train_Y.loc[Gisette_train_Y[0]==-1] = 0"
   ]
  },
  {
   "cell_type": "code",
   "execution_count": 17,
   "id": "2f4f196d",
   "metadata": {},
   "outputs": [],
   "source": [
    "Gisette_test_Y.loc[Gisette_test_Y[0]==-1] = 0"
   ]
  },
  {
   "cell_type": "code",
   "execution_count": 18,
   "id": "0d5f4bd0",
   "metadata": {},
   "outputs": [],
   "source": [
    "###Training a model with hard thresholding-penalty###"
   ]
  },
  {
   "cell_type": "code",
   "execution_count": 19,
   "id": "e1819b6d",
   "metadata": {},
   "outputs": [],
   "source": [
    "import numpy as np"
   ]
  },
  {
   "cell_type": "code",
   "execution_count": 20,
   "id": "6658c0d1",
   "metadata": {},
   "outputs": [],
   "source": [
    "Lambda_store = [0.19,0.133,0.0875,0.053,0.0386] #threshold\n",
    "Features = [10,30,100,300,500] #Number of features I want to select\n",
    "N = 6000 #Number of observations\n",
    "L_rate = 1/N #Learning rate\n",
    "P = 5000 #Number of features in data\n",
    "#W = pd.DataFrame(np.zeros((1, 5001)) #weights initialized by 0"
   ]
  },
  {
   "cell_type": "code",
   "execution_count": 21,
   "id": "111eb6ea",
   "metadata": {},
   "outputs": [],
   "source": [
    "WT_storeLambda = []\n",
    "\n",
    "for Lambda in Lambda_store:\n",
    "    W = pd.DataFrame(np.zeros((1, 5001)))\n",
    "    for i in range(100):    \n",
    "        XWT = Gisette_train_X.dot(pd.DataFrame.transpose(W))\n",
    "        exp = np.exp(-XWT)\n",
    "        Z = Gisette_train_Y-(1/(1+exp))\n",
    "        func = L_rate*(pd.DataFrame.transpose(Gisette_train_X)).dot(Z)\n",
    "        WT = pd.DataFrame.transpose(W)\n",
    "        WT = pd.DataFrame(np.where(abs(WT+func) > Lambda, WT+func, 0))\n",
    "        W = pd.DataFrame.transpose(WT)\n",
    "    WT_storeLambda.append(WT)"
   ]
  },
  {
   "cell_type": "code",
   "execution_count": 22,
   "id": "68032715",
   "metadata": {},
   "outputs": [
    {
     "name": "stdout",
     "output_type": "stream",
     "text": [
      "10\n",
      "30\n",
      "101\n",
      "299\n",
      "498\n"
     ]
    }
   ],
   "source": [
    "print(np.count_nonzero(WT_storeLambda[0]))\n",
    "print(np.count_nonzero(WT_storeLambda[1]))\n",
    "print(np.count_nonzero(WT_storeLambda[2]))\n",
    "print(np.count_nonzero(WT_storeLambda[3]))\n",
    "print(np.count_nonzero(WT_storeLambda[4]))\n",
    "                                                                                                 "
   ]
  },
  {
   "cell_type": "code",
   "execution_count": 23,
   "id": "6970d409",
   "metadata": {},
   "outputs": [],
   "source": [
    "Pred_train_storeLambda =[]\n",
    "Pred_train_prob_storeLambda = []\n",
    "Pred_test_storeLambda =[]\n",
    "Pred_test_prob_storeLambda = []\n",
    "\n",
    "\n",
    "for WT in WT_storeLambda:\n",
    "    Pred_train = pd.DataFrame(np.where(Gisette_train_X.dot(WT)>0,1,0))\n",
    "    Pred_train_prob = 1/(1+np.exp(-(Gisette_train_X.dot(WT))))\n",
    "    Pred_train_storeLambda.append(Pred_train)\n",
    "    Pred_train_prob_storeLambda.append(Pred_train_prob)\n",
    "    Pred_test = pd.DataFrame(np.where(Gisette_test_X.dot(WT)>0,1,0))\n",
    "    Pred_test_prob = 1/(1+np.exp(-(Gisette_test_X.dot(WT))))\n",
    "    Pred_test_storeLambda.append(Pred_test)\n",
    "    Pred_test_prob_storeLambda.append(Pred_test_prob)"
   ]
  },
  {
   "cell_type": "code",
   "execution_count": 24,
   "id": "7f05a6a3",
   "metadata": {},
   "outputs": [],
   "source": [
    "###Plotting & tabulating the training & test error against the number of feature selected (depending on threshold chosen)"
   ]
  },
  {
   "cell_type": "code",
   "execution_count": 25,
   "id": "a1373841",
   "metadata": {},
   "outputs": [],
   "source": [
    "import matplotlib.pyplot as plt\n",
    "from sklearn.metrics import roc_curve\n",
    "from sklearn.metrics import roc_auc_score\n",
    "from sklearn.metrics import confusion_matrix"
   ]
  },
  {
   "cell_type": "code",
   "execution_count": 26,
   "id": "a915dd46",
   "metadata": {},
   "outputs": [],
   "source": [
    "Train_Error_storeLambda = []\n",
    "\n",
    "for Pred_train in Pred_train_storeLambda:\n",
    "    CM = confusion_matrix(Gisette_train_Y, Pred_train)\n",
    "    Error = (CM[0][1]+CM[1][0])/CM.sum()\n",
    "    Train_Error_storeLambda.append(Error)"
   ]
  },
  {
   "cell_type": "code",
   "execution_count": 27,
   "id": "53c2d1a3",
   "metadata": {},
   "outputs": [],
   "source": [
    "Test_Error_storeLambda = []\n",
    "\n",
    "for Pred_test in Pred_test_storeLambda:\n",
    "    CM = confusion_matrix(Gisette_test_Y, Pred_test)\n",
    "    Error = (CM[0][1]+CM[1][0])/CM.sum()\n",
    "    Test_Error_storeLambda.append(Error)"
   ]
  },
  {
   "cell_type": "code",
   "execution_count": 28,
   "id": "701f1f57",
   "metadata": {},
   "outputs": [
    {
     "data": {
      "text/plain": [
       "Text(0, 0.5, 'Error')"
      ]
     },
     "execution_count": 28,
     "metadata": {},
     "output_type": "execute_result"
    },
    {
     "data": {
      "image/png": "[encoded data removed]",
      "text/plain": [
       "<Figure size 432x288 with 1 Axes>"
      ]
     },
     "metadata": {
      "needs_background": "light"
     },
     "output_type": "display_data"
    }
   ],
   "source": [
    "plt.plot(Features,Train_Error_storeLambda,label=\"train error\")\n",
    "plt.plot(Features,Test_Error_storeLambda,label=\"test error\")\n",
    "plt.legend(loc=\"upper right\")\n",
    "plt.xlabel('# Features')\n",
    "plt.ylabel('Error')"
   ]
  },
  {
   "cell_type": "code",
   "execution_count": 29,
   "id": "f0af7964",
   "metadata": {},
   "outputs": [],
   "source": [
    "from tabulate import tabulate"
   ]
  },
  {
   "cell_type": "code",
   "execution_count": 30,
   "id": "2d50a257",
   "metadata": {},
   "outputs": [
    {
     "name": "stdout",
     "output_type": "stream",
     "text": [
      "  # of Features    Lambda    Training Error    Test Error\n",
      "---------------  --------  ----------------  ------------\n",
      "             10    0.19           0.121333          0.123\n",
      "             30    0.133          0.0713333         0.078\n",
      "            100    0.0875         0.0318333         0.035\n",
      "            300    0.053          0.0125            0.016\n",
      "            500    0.0386         0.008             0.013\n"
     ]
    }
   ],
   "source": [
    "headers = ['# of Features','Lambda', 'Training Error','Test Error']   \n",
    "table = zip(Features,Lambda_store,Train_Error_storeLambda,Test_Error_storeLambda)\n",
    "print(tabulate(table, headers=headers))"
   ]
  },
  {
   "cell_type": "code",
   "execution_count": 31,
   "id": "4d84c3e3",
   "metadata": {},
   "outputs": [],
   "source": [
    "###ROC###"
   ]
  },
  {
   "cell_type": "code",
   "execution_count": 32,
   "id": "2de34b2d",
   "metadata": {},
   "outputs": [],
   "source": [
    "train_fp, train_tp, _ = roc_curve(Gisette_train_Y, Pred_train_prob_storeLambda[3])\n",
    "test_fp, test_tp, _ = roc_curve(Gisette_test_Y, Pred_test_prob_storeLambda[3])"
   ]
  },
  {
   "cell_type": "code",
   "execution_count": 33,
   "id": "22508e5e",
   "metadata": {},
   "outputs": [
    {
     "data": {
      "text/plain": [
       "<matplotlib.legend.Legend at 0x1f507a96530>"
      ]
     },
     "execution_count": 33,
     "metadata": {},
     "output_type": "execute_result"
    },
    {
     "data": {
      "image/png": "[encoded data removed]",
      "text/plain": [
       "<Figure size 432x288 with 1 Axes>"
      ]
     },
     "metadata": {
      "needs_background": "light"
     },
     "output_type": "display_data"
    }
   ],
   "source": [
    "plt.plot(train_fp, train_tp, label='Train ROC for 300 features')\n",
    "plt.plot(test_fp, test_tp, label='Test ROC for 300 features')\n",
    "plt.xlabel('False Positive Rate')\n",
    "plt.ylabel('True Positive Rate')\n",
    "plt.legend()"
   ]
  }
 ],
 "metadata": {
  "kernelspec": {
   "display_name": "Python 3 (ipykernel)",
   "language": "python",
   "name": "python3"
  },
  "language_info": {
   "codemirror_mode": {
    "name": "ipython",
    "version": 3
   },
   "file_extension": ".py",
   "mimetype": "text/x-python",
   "name": "python",
   "nbconvert_exporter": "python",
   "pygments_lexer": "ipython3",
   "version": "3.10.1"
  }
 },
 "nbformat": 4,
 "nbformat_minor": 5
}
